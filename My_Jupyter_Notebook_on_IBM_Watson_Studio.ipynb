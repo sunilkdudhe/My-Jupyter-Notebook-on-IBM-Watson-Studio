{
  "nbformat": 4,
  "nbformat_minor": 0,
  "metadata": {
    "colab": {
      "name": "My Jupyter Notebook on IBM Watson Studio.ipynb",
      "provenance": []
    },
    "kernelspec": {
      "name": "python3",
      "display_name": "Python 3"
    },
    "language_info": {
      "name": "python"
    }
  },
  "cells": [
    {
      "cell_type": "code",
      "execution_count": 1,
      "metadata": {
        "colab": {
          "base_uri": "https://localhost:8080/"
        },
        "id": "eJhB9YwYTS2C",
        "outputId": "5438cf75-b34c-4ea4-9b74-02bd8c41fa5f"
      },
      "outputs": [
        {
          "output_type": "execute_result",
          "data": {
            "text/plain": [
              "3.14159265359"
            ]
          },
          "metadata": {},
          "execution_count": 1
        }
      ],
      "source": [
        "import math\n",
        "math.pi\n",
        "3.14159265359"
      ]
    },
    {
      "cell_type": "code",
      "source": [
        "import math\n",
        "radius = 8\n",
        "circumference = 2 * math.pi * radius\n",
        "print (\"circumference of circle = \", circumference)"
      ],
      "metadata": {
        "colab": {
          "base_uri": "https://localhost:8080/"
        },
        "id": "m7SKrhpqTntu",
        "outputId": "20fae572-f8a6-4c37-c3aa-3364523f2642"
      },
      "execution_count": 2,
      "outputs": [
        {
          "output_type": "stream",
          "name": "stdout",
          "text": [
            "circumference of circle =  50.26548245743669\n"
          ]
        }
      ]
    }
  ]
}